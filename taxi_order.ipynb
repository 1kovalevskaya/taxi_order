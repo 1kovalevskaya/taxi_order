{
 "cells": [
  {
   "cell_type": "markdown",
   "metadata": {},
   "source": [
    "#  Прогнозирование заказов такси"
   ]
  },
  {
   "cell_type": "markdown",
   "metadata": {},
   "source": [
    "Компания «Чётенькое такси» собрала исторические данные о заказах такси в аэропортах. Чтобы привлекать больше водителей в период пиковой нагрузки, нужно спрогнозировать количество заказов такси на следующий час. Постройте модель для такого предсказания.\n",
    "\n",
    "Значение метрики *RMSE* на тестовой выборке должно быть не больше 48.\n",
    "\n",
    "Вам нужно:\n",
    "\n",
    "1. Загрузить данные и выполнить их ресемплирование по одному часу.\n",
    "2. Проанализировать данные.\n",
    "3. Обучить разные модели с различными гиперпараметрами. Сделать тестовую выборку размером 10% от исходных данных.\n",
    "4. Проверить данные на тестовой выборке и сделать выводы.\n"
   ]
  },
  {
   "cell_type": "markdown",
   "metadata": {
    "toc": true
   },
   "source": [
    "<h1>Содержание<span class=\"tocSkip\"></span></h1>\n",
    "<div class=\"toc\"><ul class=\"toc-item\"><li><span><a href=\"#Подготовка\" data-toc-modified-id=\"Подготовка-1\"><span class=\"toc-item-num\">1&nbsp;&nbsp;</span>Подготовка</a></span></li><li><span><a href=\"#Анализ\" data-toc-modified-id=\"Анализ-2\"><span class=\"toc-item-num\">2&nbsp;&nbsp;</span>Анализ</a></span></li><li><span><a href=\"#Обучение\" data-toc-modified-id=\"Обучение-3\"><span class=\"toc-item-num\">3&nbsp;&nbsp;</span>Обучение</a></span></li><li><span><a href=\"#Выводы\" data-toc-modified-id=\"Выводы-4\"><span class=\"toc-item-num\">4&nbsp;&nbsp;</span>Выводы</a></span></li><li><span><a href=\"#Чек-лист-проверки\" data-toc-modified-id=\"Чек-лист-проверки-5\"><span class=\"toc-item-num\">5&nbsp;&nbsp;</span>Чек-лист проверки</a></span></li></ul></div>"
   ]
  },
  {
   "cell_type": "markdown",
   "metadata": {},
   "source": [
    "## Подготовка"
   ]
  },
  {
   "cell_type": "code",
   "execution_count": 1,
   "metadata": {},
   "outputs": [],
   "source": [
    "#Импорт необходимых библиотек\n",
    "!pip install scikit-learn==1.1.3 -q \n",
    "!pip install statsmodels -q\n",
    "import pandas as pd\n",
    "from matplotlib import pyplot as plt\n",
    "import seaborn as sns \n",
    "import sklearn"
   ]
  },
  {
   "cell_type": "code",
   "execution_count": 2,
   "metadata": {},
   "outputs": [],
   "source": [
    "#инструменты\n",
    "from sklearn.model_selection import train_test_split, TimeSeriesSplit\n",
    "from sklearn.linear_model import LinearRegression\n",
    "from sklearn.tree import DecisionTreeRegressor\n",
    "from sklearn.metrics import mean_squared_error\n",
    "from statsmodels.tsa.seasonal import seasonal_decompose\n",
    "from sklearn.pipeline import Pipeline\n",
    "from sklearn.model_selection import GridSearchCV\n",
    "import warnings\n",
    "warnings.filterwarnings(\"ignore\")\n",
    "\n",
    "RANDOM_STATE = 42\n",
    "TEST_SIZE = 0.25"
   ]
  },
  {
   "cell_type": "code",
   "execution_count": 3,
   "metadata": {},
   "outputs": [
    {
     "name": "stdout",
     "output_type": "stream",
     "text": [
      "<class 'pandas.core.frame.DataFrame'>\n",
      "DatetimeIndex: 26496 entries, 2018-03-01 00:00:00 to 2018-08-31 23:50:00\n",
      "Data columns (total 1 columns):\n",
      " #   Column      Non-Null Count  Dtype\n",
      "---  ------      --------------  -----\n",
      " 0   num_orders  26496 non-null  int64\n",
      "dtypes: int64(1)\n",
      "memory usage: 414.0 KB\n"
     ]
    },
    {
     "data": {
      "text/html": [
       "<div>\n",
       "<style scoped>\n",
       "    .dataframe tbody tr th:only-of-type {\n",
       "        vertical-align: middle;\n",
       "    }\n",
       "\n",
       "    .dataframe tbody tr th {\n",
       "        vertical-align: top;\n",
       "    }\n",
       "\n",
       "    .dataframe thead th {\n",
       "        text-align: right;\n",
       "    }\n",
       "</style>\n",
       "<table border=\"1\" class=\"dataframe\">\n",
       "  <thead>\n",
       "    <tr style=\"text-align: right;\">\n",
       "      <th></th>\n",
       "      <th>num_orders</th>\n",
       "    </tr>\n",
       "    <tr>\n",
       "      <th>datetime</th>\n",
       "      <th></th>\n",
       "    </tr>\n",
       "  </thead>\n",
       "  <tbody>\n",
       "    <tr>\n",
       "      <th>2018-03-01 00:00:00</th>\n",
       "      <td>9</td>\n",
       "    </tr>\n",
       "    <tr>\n",
       "      <th>2018-03-01 00:10:00</th>\n",
       "      <td>14</td>\n",
       "    </tr>\n",
       "    <tr>\n",
       "      <th>2018-03-01 00:20:00</th>\n",
       "      <td>28</td>\n",
       "    </tr>\n",
       "    <tr>\n",
       "      <th>2018-03-01 00:30:00</th>\n",
       "      <td>20</td>\n",
       "    </tr>\n",
       "    <tr>\n",
       "      <th>2018-03-01 00:40:00</th>\n",
       "      <td>32</td>\n",
       "    </tr>\n",
       "  </tbody>\n",
       "</table>\n",
       "</div>"
      ],
      "text/plain": [
       "                     num_orders\n",
       "datetime                       \n",
       "2018-03-01 00:00:00           9\n",
       "2018-03-01 00:10:00          14\n",
       "2018-03-01 00:20:00          28\n",
       "2018-03-01 00:30:00          20\n",
       "2018-03-01 00:40:00          32"
      ]
     },
     "execution_count": 3,
     "metadata": {},
     "output_type": "execute_result"
    }
   ],
   "source": [
    "#вывод общей информации о датасете\n",
    "df = pd.read_csv('./taxi.csv', parse_dates=[0], index_col='datetime')\n",
    "df.info()\n",
    "df.head()"
   ]
  },
  {
   "cell_type": "markdown",
   "metadata": {},
   "source": [
    "Классический временной ряд. Даты сделали индексами. Нужно расположить их в хронологическом порядке."
   ]
  },
  {
   "cell_type": "code",
   "execution_count": 4,
   "metadata": {},
   "outputs": [
    {
     "name": "stdout",
     "output_type": "stream",
     "text": [
      "True\n"
     ]
    }
   ],
   "source": [
    "#сортировка в хронологическом порядке\n",
    "\n",
    "df = df.sort_index(ascending=True)\n",
    "print(df.index.is_monotonic_increasing)"
   ]
  },
  {
   "cell_type": "markdown",
   "metadata": {},
   "source": [
    "Теперь это точно временной ряд."
   ]
  },
  {
   "cell_type": "code",
   "execution_count": 5,
   "metadata": {},
   "outputs": [
    {
     "data": {
      "text/html": [
       "<div>\n",
       "<style scoped>\n",
       "    .dataframe tbody tr th:only-of-type {\n",
       "        vertical-align: middle;\n",
       "    }\n",
       "\n",
       "    .dataframe tbody tr th {\n",
       "        vertical-align: top;\n",
       "    }\n",
       "\n",
       "    .dataframe thead th {\n",
       "        text-align: right;\n",
       "    }\n",
       "</style>\n",
       "<table border=\"1\" class=\"dataframe\">\n",
       "  <thead>\n",
       "    <tr style=\"text-align: right;\">\n",
       "      <th></th>\n",
       "      <th>num_orders</th>\n",
       "    </tr>\n",
       "    <tr>\n",
       "      <th>datetime</th>\n",
       "      <th></th>\n",
       "    </tr>\n",
       "  </thead>\n",
       "  <tbody>\n",
       "    <tr>\n",
       "      <th>2018-03-01 00:00:00</th>\n",
       "      <td>124</td>\n",
       "    </tr>\n",
       "    <tr>\n",
       "      <th>2018-03-01 01:00:00</th>\n",
       "      <td>85</td>\n",
       "    </tr>\n",
       "    <tr>\n",
       "      <th>2018-03-01 02:00:00</th>\n",
       "      <td>71</td>\n",
       "    </tr>\n",
       "    <tr>\n",
       "      <th>2018-03-01 03:00:00</th>\n",
       "      <td>66</td>\n",
       "    </tr>\n",
       "    <tr>\n",
       "      <th>2018-03-01 04:00:00</th>\n",
       "      <td>43</td>\n",
       "    </tr>\n",
       "  </tbody>\n",
       "</table>\n",
       "</div>"
      ],
      "text/plain": [
       "                     num_orders\n",
       "datetime                       \n",
       "2018-03-01 00:00:00         124\n",
       "2018-03-01 01:00:00          85\n",
       "2018-03-01 02:00:00          71\n",
       "2018-03-01 03:00:00          66\n",
       "2018-03-01 04:00:00          43"
      ]
     },
     "execution_count": 5,
     "metadata": {},
     "output_type": "execute_result"
    }
   ],
   "source": [
    "#ресемплирование по 1 часу\n",
    "\n",
    "df = df.resample('1H').sum()\n",
    "df.head()"
   ]
  },
  {
   "cell_type": "markdown",
   "metadata": {},
   "source": [
    "Данные немного обработали."
   ]
  },
  {
   "cell_type": "markdown",
   "metadata": {},
   "source": [
    "## Анализ"
   ]
  },
  {
   "cell_type": "code",
   "execution_count": 6,
   "metadata": {},
   "outputs": [
    {
     "data": {
      "image/png": "[encoded data removed]",
      "text/plain": [
       "<Figure size 640x480 with 1 Axes>"
      ]
     },
     "metadata": {},
     "output_type": "display_data"
    }
   ],
   "source": [
    "df.plot();"
   ]
  },
  {
   "cell_type": "markdown",
   "metadata": {},
   "source": [
    "Ничего не понятно, но очень интересно. Кажется виднеется увеличение количества заказов с марта по сентябрь 2018 года. Разложим временной ряд на составляющие - тред, сезонность и остатки."
   ]
  },
  {
   "cell_type": "code",
   "execution_count": 7,
   "metadata": {},
   "outputs": [
    {
     "data": {
      "image/png": "[encoded data removed]",
      "text/plain": [
       "<Figure size 600x800 with 3 Axes>"
      ]
     },
     "metadata": {},
     "output_type": "display_data"
    }
   ],
   "source": [
    "decomposed = seasonal_decompose(df)\n",
    "\n",
    "plt.figure(figsize=(6, 8))\n",
    "plt.subplot(311)\n",
    "decomposed.trend.plot(ax=plt.gca())\n",
    "plt.title('Тренд')\n",
    "plt.subplot(312)\n",
    "decomposed.seasonal.plot(ax=plt.gca())\n",
    "plt.title('Сезонность')\n",
    "plt.subplot(313)\n",
    "decomposed.resid.plot(ax=plt.gca()) \n",
    "plt.title('Остатки')\n",
    "plt.tight_layout()"
   ]
  },
  {
   "cell_type": "markdown",
   "metadata": {},
   "source": [
    "- виднеется тренд на увеличение заказов с марта по сентябрь 2018 года;\n",
    "- с сезонностью ничего неясно,  нужно рассмотреть меньшие временные промежутки;\n",
    "- шум (остатки) практически не изменяются."
   ]
  },
  {
   "cell_type": "code",
   "execution_count": 8,
   "metadata": {},
   "outputs": [
    {
     "data": {
      "image/png": "[encoded data removed]",
      "text/plain": [
       "<Figure size 640x480 with 1 Axes>"
      ]
     },
     "metadata": {},
     "output_type": "display_data"
    }
   ],
   "source": [
    "decomposed.seasonal['2018-03-01':'2018-03-15'].plot();"
   ]
  },
  {
   "cell_type": "code",
   "execution_count": 9,
   "metadata": {},
   "outputs": [
    {
     "data": {
      "image/png": "[encoded data removed]",
      "text/plain": [
       "<Figure size 640x480 with 1 Axes>"
      ]
     },
     "metadata": {},
     "output_type": "display_data"
    }
   ],
   "source": [
    "decomposed.seasonal['2018-03-01':'2018-03-02'].plot();"
   ]
  },
  {
   "cell_type": "markdown",
   "metadata": {},
   "source": [
    "По дням наблюдается примерное одинаковое распределение заказов по часам.\n",
    "\n",
    "Минимальное количество заказов наблюдается в 6 утра. Затем идет рост (утренние рейсы). В обед небольшое затишье, потом рост (обеденные рейся по-видимому). К 6 вечера снова наблюдается падание количества заказов. И потом резкий рост к 12 часам ночи, что является максимальным количеством заказов в день. "
   ]
  },
  {
   "cell_type": "markdown",
   "metadata": {},
   "source": [
    "## Обучение"
   ]
  },
  {
   "cell_type": "code",
   "execution_count": 10,
   "metadata": {},
   "outputs": [],
   "source": [
    "#функция для создания признаков\n",
    "\n",
    "def make_features(data, max_lag, rolling_mean_size):\n",
    "    dt = data.copy()\n",
    "    dt['year'] = dt.index.year\n",
    "    dt['month'] = dt.index.month\n",
    "    dt['day'] = dt.index.day\n",
    "    dt['dayofweek'] = dt.index.dayofweek\n",
    "    \n",
    "    for lag in range(1, max_lag + 1):\n",
    "        dt['lag_{}'.format(lag)] = dt['num_orders'].shift(lag)\n",
    "\n",
    "    dt['rolling_mean'] = dt['num_orders'].shift().rolling(rolling_mean_size).mean()\n",
    "    \n",
    "    return dt"
   ]
  },
  {
   "cell_type": "code",
   "execution_count": 11,
   "metadata": {},
   "outputs": [],
   "source": [
    "data_new = make_features(df, 200, 1)"
   ]
  },
  {
   "cell_type": "code",
   "execution_count": 12,
   "metadata": {},
   "outputs": [],
   "source": [
    "#разделение на тренировочную и тестовую выборки\n",
    "\n",
    "train, test = train_test_split(data_new, shuffle=False, test_size=0.1)\n",
    "train = train.dropna()\n",
    "test = test.dropna()\n",
    "    \n",
    "X_train = train.drop(['num_orders'], axis=1) \n",
    "y_train = train['num_orders']\n",
    "\n",
    "X_test = test.drop(['num_orders'], axis=1) \n",
    "y_test = test['num_orders']"
   ]
  },
  {
   "cell_type": "code",
   "execution_count": 13,
   "metadata": {},
   "outputs": [],
   "source": [
    "# Итоговый Pipeline: модель\n",
    "pipe_final = Pipeline([\n",
    "    ('models', DecisionTreeRegressor(random_state=RANDOM_STATE))\n",
    "])"
   ]
  },
  {
   "cell_type": "code",
   "execution_count": 14,
   "metadata": {},
   "outputs": [],
   "source": [
    "# перебор гиперпараметров\n",
    "param_distributions = [\n",
    "    {\n",
    "        'models': [DecisionTreeRegressor(random_state=RANDOM_STATE)],\n",
    "        'models__max_depth': range(2, 10),\n",
    "        'models__min_samples_leaf': range(2, 6)\n",
    "    },\n",
    "    {\n",
    "        'models': [LinearRegression()]\n",
    "    }, \n",
    "] "
   ]
  },
  {
   "cell_type": "code",
   "execution_count": 15,
   "metadata": {},
   "outputs": [],
   "source": [
    "#поиск оптимальной модели с перебором гиперпараметров\n",
    "grid = GridSearchCV(\n",
    "    pipe_final, \n",
    "    param_grid=param_distributions, \n",
    "    cv=TimeSeriesSplit(n_splits=5), \n",
    "    scoring='neg_root_mean_squared_error', \n",
    "    n_jobs=-1, \n",
    ")"
   ]
  },
  {
   "cell_type": "code",
   "execution_count": 16,
   "metadata": {},
   "outputs": [],
   "source": [
    "#поиск лучшей модели\n",
    "\n",
    "grid.fit(X_train, y_train);"
   ]
  },
  {
   "cell_type": "code",
   "execution_count": 17,
   "metadata": {},
   "outputs": [
    {
     "name": "stdout",
     "output_type": "stream",
     "text": [
      "Метрика RMSE для лучшей модели:\n",
      " 22.87\n",
      "\n",
      "Лучшая модель и её параметры:\n",
      "\n",
      " {'models': LinearRegression()}\n"
     ]
    }
   ],
   "source": [
    "print('Метрика RMSE для лучшей модели:\\n', round(-grid.best_score_, 2)) \n",
    "print('\\nЛучшая модель и её параметры:\\n\\n', grid.best_params_) "
   ]
  },
  {
   "cell_type": "code",
   "execution_count": 18,
   "metadata": {},
   "outputs": [
    {
     "name": "stdout",
     "output_type": "stream",
     "text": [
      "Метрика RMSE на тестовой выборке: 35.61\n"
     ]
    }
   ],
   "source": [
    "y_pred = grid.predict(X_test)\n",
    "print(f'Метрика RMSE на тестовой выборке: {round(mean_squared_error(y_test, y_pred, squared=False), 2)}')"
   ]
  },
  {
   "cell_type": "code",
   "execution_count": 19,
   "metadata": {},
   "outputs": [],
   "source": [
    "X_test['y_pred'] = y_pred\n",
    "X_test['y_test'] = y_test"
   ]
  },
  {
   "cell_type": "code",
   "execution_count": 20,
   "metadata": {},
   "outputs": [
    {
     "data": {
      "image/png": "[encoded data removed]",
      "text/plain": [
       "<Figure size 640x480 with 1 Axes>"
      ]
     },
     "metadata": {},
     "output_type": "display_data"
    }
   ],
   "source": [
    "sns.lineplot(data=X_test[['y_test', 'y_pred']], legend='auto', dashes=False, palette='BuPu')\n",
    "plt.title('Количество заказов такси во времени')\n",
    "plt.xlabel('Дата')\n",
    "plt.ylabel('Количество заказов')\n",
    "plt.xticks(rotation=45);"
   ]
  },
  {
   "cell_type": "markdown",
   "metadata": {},
   "source": [
    "В целом предсказанные моделью значения накладываются на реальные значения."
   ]
  },
  {
   "cell_type": "markdown",
   "metadata": {},
   "source": [
    "## Выводы"
   ]
  },
  {
   "cell_type": "markdown",
   "metadata": {},
   "source": [
    "В данном проекте был проанализирован временной ряд количества заказов такси у аэропорта с целью предложения модели МО для предсказания количества заказов на будушие часы.\n",
    "\n",
    "Первоначально было проведено ресемплирование временного ряда по 1 часу. \n",
    "\n",
    "Были обучены две модели для задач регрессии - линейная регрессия и дерево решений. Для обучения были созданы дополнительные признаки - год, месяц, день месяца и день недели, разное количество \"отстающих\" значений, а также скользящее среднее.\n",
    "\n",
    "Для дерева решения не было никакой зависимости метрики количества признаков, а значение метрики на тестовой выборке не удовлетворило условиям задачи.\n",
    "\n",
    "Модель линейной регрессии справилась лучше. При создании 200 признаков \"отстающих\" значений метрика на тестовой выборке удовлетворяет условиям задачи - 35.56. "
   ]
  },
  {
   "cell_type": "code",
   "execution_count": null,
   "metadata": {},
   "outputs": [],
   "source": []
  }
 ],
 "metadata": {
  "ExecuteTimeLog": [
   {
    "duration": 277744,
    "start_time": "2024-02-28T14:34:59.655Z"
   },
   {
    "duration": 107,
    "start_time": "2024-02-28T14:42:12.274Z"
   },
   {
    "duration": 4,
    "start_time": "2024-02-28T14:42:16.386Z"
   },
   {
    "duration": 72,
    "start_time": "2024-02-28T14:42:26.527Z"
   },
   {
    "duration": 3,
    "start_time": "2024-02-28T14:42:53.057Z"
   },
   {
    "duration": 36,
    "start_time": "2024-02-28T14:42:53.717Z"
   },
   {
    "duration": 3,
    "start_time": "2024-02-28T14:43:22.842Z"
   },
   {
    "duration": 24,
    "start_time": "2024-02-28T14:43:23.346Z"
   },
   {
    "duration": 71,
    "start_time": "2024-02-28T14:43:57.535Z"
   },
   {
    "duration": 3,
    "start_time": "2024-02-28T14:44:03.147Z"
   },
   {
    "duration": 25,
    "start_time": "2024-02-28T14:44:04.020Z"
   },
   {
    "duration": 3,
    "start_time": "2024-02-28T14:44:19.149Z"
   },
   {
    "duration": 21,
    "start_time": "2024-02-28T14:44:19.702Z"
   },
   {
    "duration": 4,
    "start_time": "2024-02-28T14:44:30.333Z"
   },
   {
    "duration": 21,
    "start_time": "2024-02-28T14:44:30.783Z"
   },
   {
    "duration": 57,
    "start_time": "2024-02-28T14:47:24.486Z"
   },
   {
    "duration": 17,
    "start_time": "2024-02-28T14:47:26.724Z"
   },
   {
    "duration": 62,
    "start_time": "2024-02-28T14:47:54.798Z"
   },
   {
    "duration": 130,
    "start_time": "2024-02-28T14:48:51.872Z"
   },
   {
    "duration": 4,
    "start_time": "2024-02-28T14:48:56.119Z"
   },
   {
    "duration": 6242,
    "start_time": "2024-02-28T14:59:05.609Z"
   },
   {
    "duration": 60,
    "start_time": "2024-02-28T14:59:11.853Z"
   },
   {
    "duration": 3,
    "start_time": "2024-02-28T14:59:11.915Z"
   },
   {
    "duration": 13,
    "start_time": "2024-02-28T15:00:32.641Z"
   },
   {
    "duration": 13,
    "start_time": "2024-02-28T15:00:48.582Z"
   },
   {
    "duration": 6477,
    "start_time": "2024-02-28T15:00:57.326Z"
   },
   {
    "duration": 61,
    "start_time": "2024-02-28T15:01:03.805Z"
   },
   {
    "duration": 3,
    "start_time": "2024-02-28T15:01:03.868Z"
   },
   {
    "duration": 18,
    "start_time": "2024-02-28T15:01:03.873Z"
   },
   {
    "duration": 233,
    "start_time": "2024-02-28T15:04:20.572Z"
   },
   {
    "duration": 220,
    "start_time": "2024-02-28T15:04:32.636Z"
   },
   {
    "duration": 6276,
    "start_time": "2024-02-28T15:05:04.426Z"
   },
   {
    "duration": 63,
    "start_time": "2024-02-28T15:05:10.704Z"
   },
   {
    "duration": 3,
    "start_time": "2024-02-28T15:05:10.769Z"
   },
   {
    "duration": 16,
    "start_time": "2024-02-28T15:05:10.774Z"
   },
   {
    "duration": 253,
    "start_time": "2024-02-28T15:05:13.802Z"
   },
   {
    "duration": 264,
    "start_time": "2024-02-28T15:07:14.664Z"
   },
   {
    "duration": 318,
    "start_time": "2024-02-28T15:07:22.703Z"
   },
   {
    "duration": 247,
    "start_time": "2024-02-28T15:07:28.782Z"
   },
   {
    "duration": 250,
    "start_time": "2024-02-28T15:08:22.051Z"
   },
   {
    "duration": 378,
    "start_time": "2024-02-28T15:08:35.693Z"
   },
   {
    "duration": 263,
    "start_time": "2024-02-28T15:08:43.370Z"
   },
   {
    "duration": 258,
    "start_time": "2024-02-28T15:08:54.547Z"
   },
   {
    "duration": 353,
    "start_time": "2024-02-28T15:08:59.829Z"
   },
   {
    "duration": 289,
    "start_time": "2024-02-28T15:09:06.189Z"
   },
   {
    "duration": 6421,
    "start_time": "2024-02-28T15:09:44.309Z"
   },
   {
    "duration": 62,
    "start_time": "2024-02-28T15:09:50.733Z"
   },
   {
    "duration": 3,
    "start_time": "2024-02-28T15:09:50.796Z"
   },
   {
    "duration": 38,
    "start_time": "2024-02-28T15:09:50.801Z"
   },
   {
    "duration": 260,
    "start_time": "2024-02-28T15:09:50.841Z"
   },
   {
    "duration": 282,
    "start_time": "2024-02-28T15:09:51.103Z"
   },
   {
    "duration": 741,
    "start_time": "2024-02-28T15:11:27.530Z"
   },
   {
    "duration": 605,
    "start_time": "2024-02-28T15:12:18.731Z"
   },
   {
    "duration": 201,
    "start_time": "2024-02-28T15:12:46.939Z"
   },
   {
    "duration": 633,
    "start_time": "2024-02-28T15:12:54.827Z"
   },
   {
    "duration": 209,
    "start_time": "2024-02-28T15:13:17.302Z"
   },
   {
    "duration": 509,
    "start_time": "2024-02-28T15:18:52.856Z"
   },
   {
    "duration": 6244,
    "start_time": "2024-02-28T15:19:08.507Z"
   },
   {
    "duration": 60,
    "start_time": "2024-02-28T15:19:14.753Z"
   },
   {
    "duration": 3,
    "start_time": "2024-02-28T15:19:14.815Z"
   },
   {
    "duration": 19,
    "start_time": "2024-02-28T15:19:14.820Z"
   },
   {
    "duration": 487,
    "start_time": "2024-02-28T15:19:14.841Z"
   },
   {
    "duration": 613,
    "start_time": "2024-02-28T15:19:15.331Z"
   },
   {
    "duration": 114,
    "start_time": "2024-02-28T15:21:02.068Z"
   },
   {
    "duration": 7,
    "start_time": "2024-02-28T15:21:42.732Z"
   },
   {
    "duration": 239,
    "start_time": "2024-02-28T15:22:12.314Z"
   },
   {
    "duration": 3786,
    "start_time": "2024-02-28T15:22:49.612Z"
   },
   {
    "duration": 65,
    "start_time": "2024-02-28T15:22:53.400Z"
   },
   {
    "duration": 4,
    "start_time": "2024-02-28T15:22:53.467Z"
   },
   {
    "duration": 19,
    "start_time": "2024-02-28T15:22:53.473Z"
   },
   {
    "duration": 467,
    "start_time": "2024-02-28T15:22:53.494Z"
   },
   {
    "duration": 86,
    "start_time": "2024-02-28T15:22:53.962Z"
   },
   {
    "duration": 0,
    "start_time": "2024-02-28T15:22:54.050Z"
   },
   {
    "duration": 0,
    "start_time": "2024-02-28T15:22:54.051Z"
   },
   {
    "duration": 224,
    "start_time": "2024-02-28T15:23:00.637Z"
   },
   {
    "duration": 316,
    "start_time": "2024-02-28T15:24:38.397Z"
   },
   {
    "duration": 709,
    "start_time": "2024-02-28T15:25:39.775Z"
   },
   {
    "duration": 3935,
    "start_time": "2024-02-28T15:26:36.717Z"
   },
   {
    "duration": 58,
    "start_time": "2024-02-28T15:26:40.654Z"
   },
   {
    "duration": 4,
    "start_time": "2024-02-28T15:26:40.714Z"
   },
   {
    "duration": 23,
    "start_time": "2024-02-28T15:26:40.721Z"
   },
   {
    "duration": 233,
    "start_time": "2024-02-28T15:26:40.746Z"
   },
   {
    "duration": 806,
    "start_time": "2024-02-28T15:26:40.981Z"
   },
   {
    "duration": 265,
    "start_time": "2024-02-28T15:26:41.789Z"
   },
   {
    "duration": 229,
    "start_time": "2024-02-28T15:36:02.148Z"
   },
   {
    "duration": 186,
    "start_time": "2024-02-28T15:37:02.679Z"
   },
   {
    "duration": 10019,
    "start_time": "2024-03-01T04:34:36.586Z"
   },
   {
    "duration": 162,
    "start_time": "2024-03-01T04:34:46.607Z"
   },
   {
    "duration": 3,
    "start_time": "2024-03-01T04:34:46.771Z"
   },
   {
    "duration": 16,
    "start_time": "2024-03-01T04:34:46.775Z"
   },
   {
    "duration": 207,
    "start_time": "2024-03-01T04:34:46.792Z"
   },
   {
    "duration": 791,
    "start_time": "2024-03-01T04:34:47.001Z"
   },
   {
    "duration": 169,
    "start_time": "2024-03-01T04:34:47.793Z"
   },
   {
    "duration": 222,
    "start_time": "2024-03-01T04:34:47.963Z"
   },
   {
    "duration": 3932,
    "start_time": "2024-03-01T04:45:51.547Z"
   },
   {
    "duration": 65,
    "start_time": "2024-03-01T04:45:55.481Z"
   },
   {
    "duration": 4,
    "start_time": "2024-03-01T04:45:55.547Z"
   },
   {
    "duration": 16,
    "start_time": "2024-03-01T04:45:55.552Z"
   },
   {
    "duration": 252,
    "start_time": "2024-03-01T04:45:55.570Z"
   },
   {
    "duration": 791,
    "start_time": "2024-03-01T04:45:55.824Z"
   },
   {
    "duration": 182,
    "start_time": "2024-03-01T04:45:56.617Z"
   },
   {
    "duration": 7,
    "start_time": "2024-03-01T04:48:52.682Z"
   },
   {
    "duration": 1734,
    "start_time": "2024-03-01T04:48:53.824Z"
   },
   {
    "duration": 3,
    "start_time": "2024-03-01T04:49:14.803Z"
   },
   {
    "duration": 46,
    "start_time": "2024-03-01T04:49:15.572Z"
   },
   {
    "duration": 11,
    "start_time": "2024-03-01T04:49:17.164Z"
   },
   {
    "duration": 3744,
    "start_time": "2024-03-01T04:50:33.637Z"
   },
   {
    "duration": 64,
    "start_time": "2024-03-01T04:50:37.383Z"
   },
   {
    "duration": 4,
    "start_time": "2024-03-01T04:50:37.448Z"
   },
   {
    "duration": 27,
    "start_time": "2024-03-01T04:50:37.453Z"
   },
   {
    "duration": 240,
    "start_time": "2024-03-01T04:50:37.482Z"
   },
   {
    "duration": 780,
    "start_time": "2024-03-01T04:50:37.723Z"
   },
   {
    "duration": 200,
    "start_time": "2024-03-01T04:50:38.505Z"
   },
   {
    "duration": 4,
    "start_time": "2024-03-01T04:50:38.706Z"
   },
   {
    "duration": 44,
    "start_time": "2024-03-01T04:50:38.712Z"
   },
   {
    "duration": 129,
    "start_time": "2024-03-01T04:50:38.758Z"
   },
   {
    "duration": 0,
    "start_time": "2024-03-01T04:50:38.889Z"
   },
   {
    "duration": 0,
    "start_time": "2024-03-01T04:50:38.890Z"
   },
   {
    "duration": 0,
    "start_time": "2024-03-01T04:50:38.891Z"
   },
   {
    "duration": 22,
    "start_time": "2024-03-01T04:50:44.923Z"
   },
   {
    "duration": 7,
    "start_time": "2024-03-01T04:50:57.486Z"
   },
   {
    "duration": 19,
    "start_time": "2024-03-01T04:51:00.936Z"
   },
   {
    "duration": 9,
    "start_time": "2024-03-01T04:51:01.868Z"
   },
   {
    "duration": 23,
    "start_time": "2024-03-01T04:53:47.087Z"
   },
   {
    "duration": 13,
    "start_time": "2024-03-01T04:54:01.399Z"
   },
   {
    "duration": 11,
    "start_time": "2024-03-01T04:54:09.232Z"
   },
   {
    "duration": 24,
    "start_time": "2024-03-01T05:03:02.663Z"
   },
   {
    "duration": 6,
    "start_time": "2024-03-01T05:03:06.182Z"
   },
   {
    "duration": 1063,
    "start_time": "2024-03-01T05:03:06.921Z"
   },
   {
    "duration": 4,
    "start_time": "2024-03-01T05:03:10.023Z"
   },
   {
    "duration": 62,
    "start_time": "2024-03-01T05:03:31.922Z"
   },
   {
    "duration": 41766,
    "start_time": "2024-03-01T05:03:36.245Z"
   },
   {
    "duration": 14,
    "start_time": "2024-03-01T05:04:18.091Z"
   },
   {
    "duration": 4,
    "start_time": "2024-03-01T05:05:04.971Z"
   },
   {
    "duration": 44437,
    "start_time": "2024-03-01T05:05:05.857Z"
   },
   {
    "duration": 6,
    "start_time": "2024-03-01T05:05:50.299Z"
   },
   {
    "duration": 9164,
    "start_time": "2024-03-01T05:06:15.438Z"
   },
   {
    "duration": 4,
    "start_time": "2024-03-01T05:22:32.777Z"
   },
   {
    "duration": 11219,
    "start_time": "2024-03-01T05:22:48.389Z"
   },
   {
    "duration": 5,
    "start_time": "2024-03-01T06:27:06.814Z"
   },
   {
    "duration": 11923,
    "start_time": "2024-03-01T06:27:16.477Z"
   },
   {
    "duration": 5799,
    "start_time": "2024-03-01T06:27:45.424Z"
   },
   {
    "duration": 42,
    "start_time": "2024-03-01T09:03:48.258Z"
   },
   {
    "duration": 7871,
    "start_time": "2024-03-01T09:04:45.487Z"
   },
   {
    "duration": 117,
    "start_time": "2024-03-01T09:04:53.359Z"
   },
   {
    "duration": 3,
    "start_time": "2024-03-01T09:04:53.477Z"
   },
   {
    "duration": 147,
    "start_time": "2024-03-01T09:04:53.481Z"
   },
   {
    "duration": 270,
    "start_time": "2024-03-01T09:04:53.629Z"
   },
   {
    "duration": 668,
    "start_time": "2024-03-01T09:04:53.901Z"
   },
   {
    "duration": 144,
    "start_time": "2024-03-01T09:04:54.570Z"
   },
   {
    "duration": 3,
    "start_time": "2024-03-01T09:04:54.716Z"
   },
   {
    "duration": 34,
    "start_time": "2024-03-01T09:04:54.720Z"
   },
   {
    "duration": 2650,
    "start_time": "2024-03-01T09:04:54.755Z"
   },
   {
    "duration": 4,
    "start_time": "2024-03-01T09:04:57.406Z"
   },
   {
    "duration": 101,
    "start_time": "2024-03-01T09:04:57.501Z"
   },
   {
    "duration": 3,
    "start_time": "2024-03-01T09:04:57.604Z"
   },
   {
    "duration": 3800,
    "start_time": "2024-03-01T09:04:57.609Z"
   },
   {
    "duration": 5,
    "start_time": "2024-03-01T09:09:35.281Z"
   },
   {
    "duration": 718,
    "start_time": "2024-03-01T09:09:44.467Z"
   },
   {
    "duration": 4,
    "start_time": "2024-03-01T09:10:34.972Z"
   },
   {
    "duration": 7177,
    "start_time": "2024-03-01T09:10:35.725Z"
   },
   {
    "duration": 3567,
    "start_time": "2024-03-01T09:11:13.358Z"
   },
   {
    "duration": 55,
    "start_time": "2024-03-01T09:11:16.927Z"
   },
   {
    "duration": 3,
    "start_time": "2024-03-01T09:11:16.984Z"
   },
   {
    "duration": 30,
    "start_time": "2024-03-01T09:11:16.988Z"
   },
   {
    "duration": 194,
    "start_time": "2024-03-01T09:11:17.020Z"
   },
   {
    "duration": 613,
    "start_time": "2024-03-01T09:11:17.215Z"
   },
   {
    "duration": 144,
    "start_time": "2024-03-01T09:11:17.830Z"
   },
   {
    "duration": 9,
    "start_time": "2024-03-01T09:11:17.975Z"
   },
   {
    "duration": 16,
    "start_time": "2024-03-01T09:11:17.986Z"
   },
   {
    "duration": 6398,
    "start_time": "2024-03-01T09:11:18.004Z"
   },
   {
    "duration": 3,
    "start_time": "2024-03-01T09:11:24.404Z"
   },
   {
    "duration": 102,
    "start_time": "2024-03-01T09:11:24.409Z"
   },
   {
    "duration": 20,
    "start_time": "2024-03-01T09:11:24.513Z"
   },
   {
    "duration": 115,
    "start_time": "2024-03-01T09:11:24.535Z"
   },
   {
    "duration": 7,
    "start_time": "2024-03-01T09:11:57.476Z"
   },
   {
    "duration": 3518,
    "start_time": "2024-03-01T09:16:42.048Z"
   },
   {
    "duration": 54,
    "start_time": "2024-03-01T09:16:45.568Z"
   },
   {
    "duration": 16,
    "start_time": "2024-03-01T09:16:45.623Z"
   },
   {
    "duration": 41,
    "start_time": "2024-03-01T09:16:45.641Z"
   },
   {
    "duration": 216,
    "start_time": "2024-03-01T09:16:45.683Z"
   },
   {
    "duration": 646,
    "start_time": "2024-03-01T09:16:45.901Z"
   },
   {
    "duration": 141,
    "start_time": "2024-03-01T09:16:46.549Z"
   },
   {
    "duration": 11,
    "start_time": "2024-03-01T09:16:46.691Z"
   },
   {
    "duration": 33,
    "start_time": "2024-03-01T09:16:46.703Z"
   },
   {
    "duration": 31968,
    "start_time": "2024-03-01T09:16:46.738Z"
   },
   {
    "duration": 96,
    "start_time": "2024-03-01T09:17:18.708Z"
   },
   {
    "duration": 0,
    "start_time": "2024-03-01T09:17:18.808Z"
   },
   {
    "duration": 4,
    "start_time": "2024-03-01T09:18:42.843Z"
   },
   {
    "duration": 2282,
    "start_time": "2024-03-01T09:18:44.048Z"
   },
   {
    "duration": 4,
    "start_time": "2024-03-01T09:18:53.228Z"
   },
   {
    "duration": 47529,
    "start_time": "2024-03-01T09:18:53.622Z"
   },
   {
    "duration": 3,
    "start_time": "2024-03-01T09:19:44.935Z"
   },
   {
    "duration": 3604,
    "start_time": "2024-03-01T09:20:03.533Z"
   },
   {
    "duration": 57,
    "start_time": "2024-03-01T09:20:07.139Z"
   },
   {
    "duration": 3,
    "start_time": "2024-03-01T09:20:07.197Z"
   },
   {
    "duration": 67,
    "start_time": "2024-03-01T09:20:07.201Z"
   },
   {
    "duration": 191,
    "start_time": "2024-03-01T09:20:07.270Z"
   },
   {
    "duration": 655,
    "start_time": "2024-03-01T09:20:07.463Z"
   },
   {
    "duration": 174,
    "start_time": "2024-03-01T09:20:08.119Z"
   },
   {
    "duration": 7,
    "start_time": "2024-03-01T09:20:08.295Z"
   },
   {
    "duration": 18,
    "start_time": "2024-03-01T09:20:08.303Z"
   },
   {
    "duration": 31986,
    "start_time": "2024-03-01T09:20:08.322Z"
   },
   {
    "duration": 93,
    "start_time": "2024-03-01T09:20:40.309Z"
   },
   {
    "duration": 20098,
    "start_time": "2024-03-01T09:20:40.404Z"
   },
   {
    "duration": 5,
    "start_time": "2024-03-01T09:21:06.603Z"
   },
   {
    "duration": 9818,
    "start_time": "2024-03-01T09:21:07.006Z"
   },
   {
    "duration": 3552,
    "start_time": "2024-03-01T09:21:35.471Z"
   },
   {
    "duration": 55,
    "start_time": "2024-03-01T09:21:39.025Z"
   },
   {
    "duration": 3,
    "start_time": "2024-03-01T09:21:39.081Z"
   },
   {
    "duration": 23,
    "start_time": "2024-03-01T09:21:39.085Z"
   },
   {
    "duration": 193,
    "start_time": "2024-03-01T09:21:39.109Z"
   },
   {
    "duration": 646,
    "start_time": "2024-03-01T09:21:39.303Z"
   },
   {
    "duration": 152,
    "start_time": "2024-03-01T09:21:39.951Z"
   },
   {
    "duration": 4,
    "start_time": "2024-03-01T09:21:40.104Z"
   },
   {
    "duration": 13,
    "start_time": "2024-03-01T09:21:40.109Z"
   },
   {
    "duration": 7883,
    "start_time": "2024-03-01T09:21:40.124Z"
   },
   {
    "duration": 95,
    "start_time": "2024-03-01T09:21:48.009Z"
   },
   {
    "duration": 3158,
    "start_time": "2024-03-01T09:21:48.106Z"
   },
   {
    "duration": 4,
    "start_time": "2024-03-01T09:23:42.340Z"
   },
   {
    "duration": 2986,
    "start_time": "2024-03-01T09:23:43.408Z"
   },
   {
    "duration": 4,
    "start_time": "2024-03-01T09:24:00.202Z"
   },
   {
    "duration": 3992,
    "start_time": "2024-03-01T09:24:10.729Z"
   },
   {
    "duration": 55,
    "start_time": "2024-03-01T09:24:14.724Z"
   },
   {
    "duration": 3,
    "start_time": "2024-03-01T09:24:14.780Z"
   },
   {
    "duration": 16,
    "start_time": "2024-03-01T09:24:14.784Z"
   },
   {
    "duration": 186,
    "start_time": "2024-03-01T09:24:14.803Z"
   },
   {
    "duration": 653,
    "start_time": "2024-03-01T09:24:14.990Z"
   },
   {
    "duration": 150,
    "start_time": "2024-03-01T09:24:15.644Z"
   },
   {
    "duration": 3,
    "start_time": "2024-03-01T09:24:15.795Z"
   },
   {
    "duration": 6,
    "start_time": "2024-03-01T09:24:15.801Z"
   },
   {
    "duration": 8602,
    "start_time": "2024-03-01T09:24:15.809Z"
   },
   {
    "duration": 91,
    "start_time": "2024-03-01T09:24:24.413Z"
   },
   {
    "duration": 3112,
    "start_time": "2024-03-01T09:24:24.506Z"
   },
   {
    "duration": 3533,
    "start_time": "2024-03-01T09:25:27.699Z"
   },
   {
    "duration": 58,
    "start_time": "2024-03-01T09:25:31.234Z"
   },
   {
    "duration": 14,
    "start_time": "2024-03-01T09:25:31.293Z"
   },
   {
    "duration": 85,
    "start_time": "2024-03-01T09:25:31.308Z"
   },
   {
    "duration": 300,
    "start_time": "2024-03-01T09:25:31.395Z"
   },
   {
    "duration": 630,
    "start_time": "2024-03-01T09:25:31.697Z"
   },
   {
    "duration": 145,
    "start_time": "2024-03-01T09:25:32.328Z"
   },
   {
    "duration": 3,
    "start_time": "2024-03-01T09:25:32.475Z"
   },
   {
    "duration": 10,
    "start_time": "2024-03-01T09:25:32.479Z"
   },
   {
    "duration": 6412,
    "start_time": "2024-03-01T09:25:32.490Z"
   },
   {
    "duration": 96,
    "start_time": "2024-03-01T09:25:38.906Z"
   },
   {
    "duration": 1537,
    "start_time": "2024-03-01T09:25:39.004Z"
   },
   {
    "duration": 3581,
    "start_time": "2024-03-01T09:26:48.666Z"
   },
   {
    "duration": 54,
    "start_time": "2024-03-01T09:26:52.249Z"
   },
   {
    "duration": 3,
    "start_time": "2024-03-01T09:26:52.304Z"
   },
   {
    "duration": 18,
    "start_time": "2024-03-01T09:26:52.308Z"
   },
   {
    "duration": 182,
    "start_time": "2024-03-01T09:26:52.328Z"
   },
   {
    "duration": 609,
    "start_time": "2024-03-01T09:26:52.511Z"
   },
   {
    "duration": 145,
    "start_time": "2024-03-01T09:26:53.121Z"
   },
   {
    "duration": 3,
    "start_time": "2024-03-01T09:26:53.267Z"
   },
   {
    "duration": 12,
    "start_time": "2024-03-01T09:26:53.271Z"
   },
   {
    "duration": 8429,
    "start_time": "2024-03-01T09:26:53.284Z"
   },
   {
    "duration": 8,
    "start_time": "2024-03-01T09:27:01.715Z"
   },
   {
    "duration": 4569,
    "start_time": "2024-03-01T09:27:01.802Z"
   },
   {
    "duration": 123,
    "start_time": "2024-03-01T09:44:14.922Z"
   },
   {
    "duration": 108,
    "start_time": "2024-03-01T09:44:41.219Z"
   },
   {
    "duration": 148,
    "start_time": "2024-03-01T09:45:03.259Z"
   },
   {
    "duration": 138,
    "start_time": "2024-03-01T09:45:11.627Z"
   },
   {
    "duration": 121,
    "start_time": "2024-03-01T09:45:17.021Z"
   },
   {
    "duration": 119,
    "start_time": "2024-03-01T09:47:42.322Z"
   },
   {
    "duration": 4,
    "start_time": "2024-03-01T09:50:32.440Z"
   },
   {
    "duration": 3462,
    "start_time": "2024-03-01T09:50:40.960Z"
   },
   {
    "duration": 56,
    "start_time": "2024-03-01T09:50:44.423Z"
   },
   {
    "duration": 4,
    "start_time": "2024-03-01T09:50:44.480Z"
   },
   {
    "duration": 95,
    "start_time": "2024-03-01T09:50:44.485Z"
   },
   {
    "duration": 243,
    "start_time": "2024-03-01T09:50:44.582Z"
   },
   {
    "duration": 627,
    "start_time": "2024-03-01T09:50:44.827Z"
   },
   {
    "duration": 142,
    "start_time": "2024-03-01T09:50:45.455Z"
   },
   {
    "duration": 116,
    "start_time": "2024-03-01T09:50:45.601Z"
   },
   {
    "duration": 3,
    "start_time": "2024-03-01T09:50:45.719Z"
   },
   {
    "duration": 131,
    "start_time": "2024-03-01T09:50:45.724Z"
   },
   {
    "duration": 8556,
    "start_time": "2024-03-01T09:50:45.856Z"
   },
   {
    "duration": 9,
    "start_time": "2024-03-01T09:50:54.502Z"
   },
   {
    "duration": 9560,
    "start_time": "2024-03-01T09:50:54.516Z"
   },
   {
    "duration": 3527,
    "start_time": "2024-03-01T09:51:45.892Z"
   },
   {
    "duration": 59,
    "start_time": "2024-03-01T09:51:49.421Z"
   },
   {
    "duration": 3,
    "start_time": "2024-03-01T09:51:49.481Z"
   },
   {
    "duration": 23,
    "start_time": "2024-03-01T09:51:49.486Z"
   },
   {
    "duration": 180,
    "start_time": "2024-03-01T09:51:49.511Z"
   },
   {
    "duration": 638,
    "start_time": "2024-03-01T09:51:49.692Z"
   },
   {
    "duration": 150,
    "start_time": "2024-03-01T09:51:50.332Z"
   },
   {
    "duration": 119,
    "start_time": "2024-03-01T09:51:50.484Z"
   },
   {
    "duration": 3,
    "start_time": "2024-03-01T09:51:50.604Z"
   },
   {
    "duration": 16,
    "start_time": "2024-03-01T09:51:50.608Z"
   },
   {
    "duration": 8876,
    "start_time": "2024-03-01T09:51:50.626Z"
   },
   {
    "duration": 5,
    "start_time": "2024-03-01T09:51:59.504Z"
   },
   {
    "duration": 12829,
    "start_time": "2024-03-01T09:51:59.511Z"
   },
   {
    "duration": 4,
    "start_time": "2024-03-01T09:52:16.770Z"
   },
   {
    "duration": 2691,
    "start_time": "2024-03-01T09:52:17.282Z"
   },
   {
    "duration": 4,
    "start_time": "2024-03-01T09:52:23.514Z"
   },
   {
    "duration": 1916,
    "start_time": "2024-03-01T09:52:24.412Z"
   },
   {
    "duration": 5,
    "start_time": "2024-03-01T09:52:29.614Z"
   },
   {
    "duration": 5197,
    "start_time": "2024-03-01T09:52:30.752Z"
   },
   {
    "duration": 2,
    "start_time": "2024-03-01T09:53:39.293Z"
   },
   {
    "duration": 3915,
    "start_time": "2024-03-01T10:02:46.728Z"
   },
   {
    "duration": 85,
    "start_time": "2024-03-01T10:02:50.645Z"
   },
   {
    "duration": 2,
    "start_time": "2024-03-01T10:02:50.732Z"
   },
   {
    "duration": 13,
    "start_time": "2024-03-01T10:02:50.736Z"
   },
   {
    "duration": 220,
    "start_time": "2024-03-01T10:02:50.750Z"
   },
   {
    "duration": 639,
    "start_time": "2024-03-01T10:02:50.971Z"
   },
   {
    "duration": 145,
    "start_time": "2024-03-01T10:02:51.611Z"
   },
   {
    "duration": 128,
    "start_time": "2024-03-01T10:02:51.757Z"
   },
   {
    "duration": 3,
    "start_time": "2024-03-01T10:02:51.887Z"
   },
   {
    "duration": 4,
    "start_time": "2024-03-01T10:02:51.901Z"
   },
   {
    "duration": 7999,
    "start_time": "2024-03-01T10:02:51.906Z"
   },
   {
    "duration": 95,
    "start_time": "2024-03-01T10:02:59.906Z"
   },
   {
    "duration": 5444,
    "start_time": "2024-03-01T10:03:00.002Z"
   },
   {
    "duration": 10,
    "start_time": "2024-03-01T12:14:14.950Z"
   },
   {
    "duration": 44,
    "start_time": "2024-03-01T12:36:52.816Z"
   },
   {
    "duration": 7,
    "start_time": "2024-03-01T12:37:31.963Z"
   },
   {
    "duration": 6,
    "start_time": "2024-03-01T12:38:13.724Z"
   },
   {
    "duration": 9261,
    "start_time": "2024-03-01T12:39:58.472Z"
   },
   {
    "duration": 133,
    "start_time": "2024-03-01T12:40:07.736Z"
   },
   {
    "duration": 3,
    "start_time": "2024-03-01T12:40:07.870Z"
   },
   {
    "duration": 14,
    "start_time": "2024-03-01T12:40:07.875Z"
   },
   {
    "duration": 251,
    "start_time": "2024-03-01T12:40:07.890Z"
   },
   {
    "duration": 797,
    "start_time": "2024-03-01T12:40:08.142Z"
   },
   {
    "duration": 195,
    "start_time": "2024-03-01T12:40:08.941Z"
   },
   {
    "duration": 149,
    "start_time": "2024-03-01T12:40:09.138Z"
   },
   {
    "duration": 4,
    "start_time": "2024-03-01T12:40:09.289Z"
   },
   {
    "duration": 19,
    "start_time": "2024-03-01T12:40:09.295Z"
   },
   {
    "duration": 14,
    "start_time": "2024-03-01T12:40:09.315Z"
   },
   {
    "duration": 144,
    "start_time": "2024-03-01T12:40:09.331Z"
   },
   {
    "duration": 0,
    "start_time": "2024-03-01T12:40:09.476Z"
   },
   {
    "duration": 0,
    "start_time": "2024-03-01T12:40:09.478Z"
   },
   {
    "duration": 0,
    "start_time": "2024-03-01T12:40:09.479Z"
   },
   {
    "duration": 0,
    "start_time": "2024-03-01T12:40:09.480Z"
   },
   {
    "duration": 2445,
    "start_time": "2024-03-01T12:40:29.111Z"
   },
   {
    "duration": 6,
    "start_time": "2024-03-01T12:40:37.830Z"
   },
   {
    "duration": 8,
    "start_time": "2024-03-01T12:40:38.725Z"
   },
   {
    "duration": 14,
    "start_time": "2024-03-01T12:40:39.392Z"
   },
   {
    "duration": 2451,
    "start_time": "2024-03-01T12:41:03.254Z"
   },
   {
    "duration": 3,
    "start_time": "2024-03-01T12:41:12.651Z"
   },
   {
    "duration": 13,
    "start_time": "2024-03-01T12:41:32.179Z"
   },
   {
    "duration": 14,
    "start_time": "2024-03-01T12:42:26.462Z"
   },
   {
    "duration": 12,
    "start_time": "2024-03-01T12:42:50.838Z"
   },
   {
    "duration": 2,
    "start_time": "2024-03-01T12:42:55.868Z"
   },
   {
    "duration": 100,
    "start_time": "2024-03-01T12:42:56.759Z"
   },
   {
    "duration": 48,
    "start_time": "2024-03-01T12:44:27.537Z"
   },
   {
    "duration": 17,
    "start_time": "2024-03-01T12:44:44.186Z"
   },
   {
    "duration": 3,
    "start_time": "2024-03-01T12:44:45.096Z"
   },
   {
    "duration": 4,
    "start_time": "2024-03-01T12:44:45.635Z"
   },
   {
    "duration": 3,
    "start_time": "2024-03-01T12:44:46.300Z"
   },
   {
    "duration": 3936,
    "start_time": "2024-03-01T12:44:47.026Z"
   },
   {
    "duration": 8,
    "start_time": "2024-03-01T12:45:08.327Z"
   },
   {
    "duration": 21,
    "start_time": "2024-03-01T12:45:56.919Z"
   },
   {
    "duration": 9,
    "start_time": "2024-03-01T13:04:57.647Z"
   },
   {
    "duration": 138,
    "start_time": "2024-03-01T13:05:09.854Z"
   },
   {
    "duration": 29,
    "start_time": "2024-03-01T13:05:12.521Z"
   },
   {
    "duration": 3,
    "start_time": "2024-03-01T13:05:13.089Z"
   },
   {
    "duration": 3,
    "start_time": "2024-03-01T13:05:13.625Z"
   },
   {
    "duration": 3,
    "start_time": "2024-03-01T13:05:14.351Z"
   },
   {
    "duration": 22400,
    "start_time": "2024-03-01T13:05:15.520Z"
   },
   {
    "duration": 5,
    "start_time": "2024-03-01T13:05:37.922Z"
   },
   {
    "duration": 189,
    "start_time": "2024-03-01T13:05:37.929Z"
   },
   {
    "duration": 10,
    "start_time": "2024-03-01T13:07:04.401Z"
   },
   {
    "duration": 22,
    "start_time": "2024-03-01T13:07:13.394Z"
   },
   {
    "duration": 28,
    "start_time": "2024-03-01T13:07:51.617Z"
   },
   {
    "duration": 23,
    "start_time": "2024-03-01T13:07:59.274Z"
   },
   {
    "duration": 7,
    "start_time": "2024-03-01T13:08:05.504Z"
   },
   {
    "duration": 203,
    "start_time": "2024-03-01T13:08:09.357Z"
   },
   {
    "duration": 197,
    "start_time": "2024-03-01T13:08:23.309Z"
   },
   {
    "duration": 7,
    "start_time": "2024-03-01T13:08:41.452Z"
   },
   {
    "duration": 29,
    "start_time": "2024-03-01T13:09:33.179Z"
   },
   {
    "duration": 27,
    "start_time": "2024-03-01T13:10:06.958Z"
   },
   {
    "duration": 171,
    "start_time": "2024-03-01T13:10:58.172Z"
   },
   {
    "duration": 6,
    "start_time": "2024-03-01T13:11:11.288Z"
   },
   {
    "duration": 183,
    "start_time": "2024-03-01T13:11:18.840Z"
   },
   {
    "duration": 14,
    "start_time": "2024-03-01T13:11:38.508Z"
   },
   {
    "duration": 267,
    "start_time": "2024-03-01T13:11:52.533Z"
   },
   {
    "duration": 299,
    "start_time": "2024-03-01T13:12:50.112Z"
   },
   {
    "duration": 196,
    "start_time": "2024-03-01T13:12:54.878Z"
   },
   {
    "duration": 257,
    "start_time": "2024-03-01T13:14:01.578Z"
   },
   {
    "duration": 235,
    "start_time": "2024-03-01T13:14:21.005Z"
   },
   {
    "duration": 267,
    "start_time": "2024-03-01T13:17:29.579Z"
   },
   {
    "duration": 4,
    "start_time": "2024-03-01T13:18:54.239Z"
   },
   {
    "duration": 310,
    "start_time": "2024-03-01T13:19:27.565Z"
   },
   {
    "duration": 310,
    "start_time": "2024-03-01T13:20:22.131Z"
   },
   {
    "duration": 272,
    "start_time": "2024-03-01T13:20:30.942Z"
   },
   {
    "duration": 3706,
    "start_time": "2024-03-01T13:22:41.590Z"
   },
   {
    "duration": 62,
    "start_time": "2024-03-01T13:22:45.298Z"
   },
   {
    "duration": 4,
    "start_time": "2024-03-01T13:22:45.361Z"
   },
   {
    "duration": 35,
    "start_time": "2024-03-01T13:22:45.367Z"
   },
   {
    "duration": 225,
    "start_time": "2024-03-01T13:22:45.404Z"
   },
   {
    "duration": 789,
    "start_time": "2024-03-01T13:22:45.631Z"
   },
   {
    "duration": 181,
    "start_time": "2024-03-01T13:22:46.422Z"
   },
   {
    "duration": 150,
    "start_time": "2024-03-01T13:22:46.605Z"
   },
   {
    "duration": 4,
    "start_time": "2024-03-01T13:22:46.757Z"
   },
   {
    "duration": 147,
    "start_time": "2024-03-01T13:22:46.764Z"
   },
   {
    "duration": 32,
    "start_time": "2024-03-01T13:22:46.913Z"
   },
   {
    "duration": 3,
    "start_time": "2024-03-01T13:22:46.947Z"
   },
   {
    "duration": 21,
    "start_time": "2024-03-01T13:22:46.952Z"
   },
   {
    "duration": 10,
    "start_time": "2024-03-01T13:22:46.976Z"
   },
   {
    "duration": 22132,
    "start_time": "2024-03-01T13:22:46.988Z"
   },
   {
    "duration": 5,
    "start_time": "2024-03-01T13:23:09.123Z"
   },
   {
    "duration": 207,
    "start_time": "2024-03-01T13:23:09.130Z"
   },
   {
    "duration": 5,
    "start_time": "2024-03-01T13:23:09.419Z"
   },
   {
    "duration": 724,
    "start_time": "2024-03-01T13:23:09.426Z"
   },
   {
    "duration": 3819,
    "start_time": "2024-03-01T13:27:45.821Z"
   },
   {
    "duration": 62,
    "start_time": "2024-03-01T13:27:49.643Z"
   },
   {
    "duration": 4,
    "start_time": "2024-03-01T13:27:49.707Z"
   },
   {
    "duration": 15,
    "start_time": "2024-03-01T13:27:49.714Z"
   },
   {
    "duration": 277,
    "start_time": "2024-03-01T13:27:49.731Z"
   },
   {
    "duration": 811,
    "start_time": "2024-03-01T13:27:50.009Z"
   },
   {
    "duration": 178,
    "start_time": "2024-03-01T13:27:50.822Z"
   },
   {
    "duration": 149,
    "start_time": "2024-03-01T13:27:51.002Z"
   },
   {
    "duration": 5,
    "start_time": "2024-03-01T13:27:51.153Z"
   },
   {
    "duration": 150,
    "start_time": "2024-03-01T13:27:51.161Z"
   },
   {
    "duration": 44,
    "start_time": "2024-03-01T13:27:51.313Z"
   },
   {
    "duration": 3,
    "start_time": "2024-03-01T13:27:51.360Z"
   },
   {
    "duration": 3,
    "start_time": "2024-03-01T13:27:51.366Z"
   },
   {
    "duration": 5,
    "start_time": "2024-03-01T13:27:51.371Z"
   },
   {
    "duration": 27851,
    "start_time": "2024-03-01T13:27:51.379Z"
   },
   {
    "duration": 88,
    "start_time": "2024-03-01T13:28:19.233Z"
   },
   {
    "duration": 24,
    "start_time": "2024-03-01T13:28:19.323Z"
   },
   {
    "duration": 77,
    "start_time": "2024-03-01T13:28:19.350Z"
   },
   {
    "duration": 459,
    "start_time": "2024-03-01T13:28:19.447Z"
   }
  ],
  "kernelspec": {
   "display_name": "Python 3 (ipykernel)",
   "language": "python",
   "name": "python3"
  },
  "language_info": {
   "codemirror_mode": {
    "name": "ipython",
    "version": 3
   },
   "file_extension": ".py",
   "mimetype": "text/x-python",
   "name": "python",
   "nbconvert_exporter": "python",
   "pygments_lexer": "ipython3",
   "version": "3.10.12"
  },
  "toc": {
   "base_numbering": 1,
   "nav_menu": {},
   "number_sections": true,
   "sideBar": true,
   "skip_h1_title": true,
   "title_cell": "Содержание",
   "title_sidebar": "Contents",
   "toc_cell": true,
   "toc_position": {
    "height": "calc(100% - 180px)",
    "left": "10px",
    "top": "150px",
    "width": "165px"
   },
   "toc_section_display": true,
   "toc_window_display": true
  }
 },
 "nbformat": 4,
 "nbformat_minor": 4
}
